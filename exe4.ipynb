{
 "cells": [
  {
   "cell_type": "code",
   "execution_count": null,
   "metadata": {},
   "outputs": [],
   "source": [
    "# 4.1\n",
    "import random\n",
    "S = [random.randint(0,100) for i in range(15)]\n",
    "\n",
    "def findmax(S, index):\n",
    "    if index==len(S)-1:\n",
    "        return S[index]\n",
    "    else: return max(S[index], findmax(S, index+1))\n",
    "    \n",
    "\n",
    "print(S)\n",
    "print(findmax(S, 0))"
   ]
  },
  {
   "cell_type": "code",
   "execution_count": null,
   "metadata": {},
   "outputs": [],
   "source": [
    "# 4.2\n",
    "def power(x,n):\n",
    "    if n==0:\n",
    "        return 1\n",
    "    else: \n",
    "        return x*(power(x,n-1))\n",
    "\n",
    "\"\"\"\n",
    "given x=2, n=5\n",
    "\n",
    "power(2,5) --> 2*16 = 32\n",
    "    power(2,4) --> 2*8 = 16\n",
    "        power(2,3) --> 2*4 = 8\n",
    "            power(2,2) --> 2*2 = 4\n",
    "                power(2,1) --> 2*1 = 2\n",
    "                    power(2,0) --> 1\n",
    "\"\"\"\n",
    "print(power(2,5))"
   ]
  },
  {
   "cell_type": "code",
   "execution_count": null,
   "metadata": {},
   "outputs": [],
   "source": [
    "# 4.3\n",
    "def power(x,n):\n",
    "    \"recursian trace method\"\n",
    "    if n==0:\n",
    "        return 1\n",
    "    else:\n",
    "        partial = power(x,n//2)\n",
    "        result = partial*partial\n",
    "        if n%2==1:\n",
    "            result*=x\n",
    "        return result\n",
    "\n",
    "\"\"\"\n",
    "power(2,10) --> power(2,5)*power(2,5) = 32*32 = 1024\n",
    "    power(2,5) --> power(2,2)*power(2,2)*2 = 4*4*2 = 32\n",
    "        power(2,2) --> power(2,1)*power(2,1) = 2*2 = 4\n",
    "            power(2,1) --> power(2,0)*power(2,0) = 1*1\n",
    "                power(2,0) --> 1\n",
    "\"\"\""
   ]
  },
  {
   "cell_type": "code",
   "execution_count": null,
   "metadata": {},
   "outputs": [],
   "source": [
    "# 4.4\n",
    "def reverse(S, start, stop):\n",
    "    if start < stop - 1:\n",
    "        S[start], S[stop-1] = S[stop-1], S[start]\n",
    "        reverse(S, start+1, stop-1)\n",
    "\n",
    "\"\"\"\n",
    "S=[0,1,2,3,4,5,6,7]\n",
    "start,stop = 0,8 -> S[0],S[7] <->\n",
    "    start,stop = 1,7 -> S[1],S[6] <->\n",
    "        start,stop = 2,6 -> S[2],S[5] <->\n",
    "            start,stop = 3,5 -> S[3],S[4] <->\n",
    "                start,stop = 4,4 -> S[4],S[3] skip, and the rest\n",
    "\"\"\""
   ]
  },
  {
   "cell_type": "code",
   "execution_count": null,
   "metadata": {},
   "outputs": [],
   "source": [
    "# 4.5 -- skip"
   ]
  },
  {
   "cell_type": "code",
   "execution_count": null,
   "metadata": {},
   "outputs": [],
   "source": [
    "# 4.6\n",
    "def HarmonicNum(n):\n",
    "    if n==1:\n",
    "        return 1\n",
    "    else:\n",
    "        return 1/n+HarmonicNum(n-1)\n",
    "\n",
    "HarmonicNum(5)"
   ]
  },
  {
   "cell_type": "code",
   "execution_count": null,
   "metadata": {},
   "outputs": [],
   "source": [
    "# 4.7, 4.8 skip\n",
    "def string2int(string):\n",
    "    n=len(string)\n",
    "    if n!=0:\n",
    "        return int(string[0])*(10**(n-1)) + string2int(string[1:n])\n",
    "    else:\n",
    "        return 0\n",
    "\n",
    "a = string2int('12345607')\n",
    "print(a, type(a))"
   ]
  },
  {
   "cell_type": "code",
   "execution_count": null,
   "metadata": {},
   "outputs": [],
   "source": [
    "# 4.9\n",
    "def FindMinMax(egset, index=0):\n",
    "    if index==len(egset)-1:\n",
    "        minx, maxx = egset[index],egset[index]\n",
    "        return minx, maxx\n",
    "    else:\n",
    "        minx, maxx = FindMinMax(egset,index+1)\n",
    "        return min(egset[index], minx), max(egset[index], maxx)"
   ]
  },
  {
   "cell_type": "code",
   "execution_count": null,
   "metadata": {},
   "outputs": [],
   "source": [
    "s1=[1,3,5,6,3,6,-3,20,4,3]\n",
    "s2=[9,3,4,2,5,6,8,34,-40,32]\n",
    "print(FindMinMax(s1))\n",
    "print(FindMinMax(s2))"
   ]
  },
  {
   "cell_type": "code",
   "execution_count": null,
   "metadata": {},
   "outputs": [],
   "source": [
    "# 4.10\n",
    "def log2int(n):\n",
    "    assert n>0\n",
    "    if n<2:\n",
    "        return 0\n",
    "    else:\n",
    "        return 1+log2int(n//2)\n",
    "\n",
    "log2int(16)"
   ]
  },
  {
   "cell_type": "code",
   "execution_count": null,
   "metadata": {},
   "outputs": [],
   "source": [
    "# 4.11\n",
    "def uniquecheck(S, index=0):\n",
    "    if index==len(S)-1:\n",
    "        return True\n",
    "    else:\n",
    "        unique=True\n",
    "        for i in range(index+1, len(S)):\n",
    "            if S[index]==S[i]:\n",
    "                unique=False\n",
    "        return unique and uniquecheck(S,index+1)\n",
    "\n",
    "for S in [[1,2,3,4,5,6], \n",
    "          [3,4,5,2,3,4,6,7],\n",
    "          [234,654,32,543,652]\n",
    "         ]:\n",
    "    print(uniquecheck(S))"
   ]
  },
  {
   "cell_type": "code",
   "execution_count": null,
   "metadata": {},
   "outputs": [],
   "source": [
    "# 4.12, 4.13 skipped\n",
    "def product(m,n):\n",
    "    if n==0:\n",
    "        return 0\n",
    "    else:\n",
    "        return m + product(m,n-1)\n",
    "\n",
    "product(2,6)"
   ]
  },
  {
   "cell_type": "code",
   "execution_count": 11,
   "metadata": {},
   "outputs": [
    {
     "name": "stdout",
     "output_type": "stream",
     "text": [
      "1\n",
      "2\n",
      "3\n",
      "4\n"
     ]
    }
   ],
   "source": [
    "s=[1,2,3,4]\n",
    "for i in range(len(s)):\n",
    "    print(s[i])"
   ]
  },
  {
   "cell_type": "code",
   "execution_count": 25,
   "metadata": {},
   "outputs": [
    {
     "name": "stdout",
     "output_type": "stream",
     "text": [
      "[2, 3, 4]\n",
      "[1, 3, 4]\n",
      "[1, 2, 4]\n",
      "[1, 2, 3]\n",
      "1\n",
      "[3, 4]\n",
      "[2, 4]\n",
      "[2, 3]\n",
      "3\n",
      "[4]\n",
      "[2]\n"
     ]
    },
    {
     "ename": "IndexError",
     "evalue": "pop index out of range",
     "output_type": "error",
     "traceback": [
      "\u001b[0;31m---------------------------------------------------------------------------\u001b[0m",
      "\u001b[0;31mIndexError\u001b[0m                                Traceback (most recent call last)",
      "\u001b[1;32m/home/gvh/Desktop/data structure & algo practise/exe4.ipynb Cell 14\u001b[0m in \u001b[0;36m<cell line: 30>\u001b[0;34m()\u001b[0m\n\u001b[1;32m     <a href='vscode-notebook-cell:/home/gvh/Desktop/data%20structure%20%26%20algo%20practise/exe4.ipynb#X15sZmlsZQ%3D%3D?line=25'>26</a>\u001b[0m         subset(setcopy,n\u001b[39m+\u001b[39m\u001b[39m1\u001b[39m)\n\u001b[1;32m     <a href='vscode-notebook-cell:/home/gvh/Desktop/data%20structure%20%26%20algo%20practise/exe4.ipynb#X15sZmlsZQ%3D%3D?line=26'>27</a>\u001b[0m     \u001b[39melse\u001b[39;00m: \u001b[39mreturn\u001b[39;00m S\n\u001b[0;32m---> <a href='vscode-notebook-cell:/home/gvh/Desktop/data%20structure%20%26%20algo%20practise/exe4.ipynb#X15sZmlsZQ%3D%3D?line=29'>30</a>\u001b[0m subset([\u001b[39m1\u001b[39;49m,\u001b[39m2\u001b[39;49m,\u001b[39m3\u001b[39;49m,\u001b[39m4\u001b[39;49m])\n",
      "\u001b[1;32m/home/gvh/Desktop/data structure & algo practise/exe4.ipynb Cell 14\u001b[0m in \u001b[0;36msubset\u001b[0;34m(S, n)\u001b[0m\n\u001b[1;32m     <a href='vscode-notebook-cell:/home/gvh/Desktop/data%20structure%20%26%20algo%20practise/exe4.ipynb#X15sZmlsZQ%3D%3D?line=23'>24</a>\u001b[0m         \u001b[39m# subset(setcopy2,n+1)\u001b[39;00m\n\u001b[1;32m     <a href='vscode-notebook-cell:/home/gvh/Desktop/data%20structure%20%26%20algo%20practise/exe4.ipynb#X15sZmlsZQ%3D%3D?line=24'>25</a>\u001b[0m     \u001b[39mprint\u001b[39m(setcopy\u001b[39m.\u001b[39mpop(n))\n\u001b[0;32m---> <a href='vscode-notebook-cell:/home/gvh/Desktop/data%20structure%20%26%20algo%20practise/exe4.ipynb#X15sZmlsZQ%3D%3D?line=25'>26</a>\u001b[0m     subset(setcopy,n\u001b[39m+\u001b[39;49m\u001b[39m1\u001b[39;49m)\n\u001b[1;32m     <a href='vscode-notebook-cell:/home/gvh/Desktop/data%20structure%20%26%20algo%20practise/exe4.ipynb#X15sZmlsZQ%3D%3D?line=26'>27</a>\u001b[0m \u001b[39melse\u001b[39;00m: \u001b[39mreturn\u001b[39;00m S\n",
      "\u001b[1;32m/home/gvh/Desktop/data structure & algo practise/exe4.ipynb Cell 14\u001b[0m in \u001b[0;36msubset\u001b[0;34m(S, n)\u001b[0m\n\u001b[1;32m     <a href='vscode-notebook-cell:/home/gvh/Desktop/data%20structure%20%26%20algo%20practise/exe4.ipynb#X15sZmlsZQ%3D%3D?line=23'>24</a>\u001b[0m         \u001b[39m# subset(setcopy2,n+1)\u001b[39;00m\n\u001b[1;32m     <a href='vscode-notebook-cell:/home/gvh/Desktop/data%20structure%20%26%20algo%20practise/exe4.ipynb#X15sZmlsZQ%3D%3D?line=24'>25</a>\u001b[0m     \u001b[39mprint\u001b[39m(setcopy\u001b[39m.\u001b[39mpop(n))\n\u001b[0;32m---> <a href='vscode-notebook-cell:/home/gvh/Desktop/data%20structure%20%26%20algo%20practise/exe4.ipynb#X15sZmlsZQ%3D%3D?line=25'>26</a>\u001b[0m     subset(setcopy,n\u001b[39m+\u001b[39;49m\u001b[39m1\u001b[39;49m)\n\u001b[1;32m     <a href='vscode-notebook-cell:/home/gvh/Desktop/data%20structure%20%26%20algo%20practise/exe4.ipynb#X15sZmlsZQ%3D%3D?line=26'>27</a>\u001b[0m \u001b[39melse\u001b[39;00m: \u001b[39mreturn\u001b[39;00m S\n",
      "\u001b[1;32m/home/gvh/Desktop/data structure & algo practise/exe4.ipynb Cell 14\u001b[0m in \u001b[0;36msubset\u001b[0;34m(S, n)\u001b[0m\n\u001b[1;32m     <a href='vscode-notebook-cell:/home/gvh/Desktop/data%20structure%20%26%20algo%20practise/exe4.ipynb#X15sZmlsZQ%3D%3D?line=22'>23</a>\u001b[0m         \u001b[39mprint\u001b[39m(setcopy2)\n\u001b[1;32m     <a href='vscode-notebook-cell:/home/gvh/Desktop/data%20structure%20%26%20algo%20practise/exe4.ipynb#X15sZmlsZQ%3D%3D?line=23'>24</a>\u001b[0m         \u001b[39m# subset(setcopy2,n+1)\u001b[39;00m\n\u001b[0;32m---> <a href='vscode-notebook-cell:/home/gvh/Desktop/data%20structure%20%26%20algo%20practise/exe4.ipynb#X15sZmlsZQ%3D%3D?line=24'>25</a>\u001b[0m     \u001b[39mprint\u001b[39m(setcopy\u001b[39m.\u001b[39;49mpop(n))\n\u001b[1;32m     <a href='vscode-notebook-cell:/home/gvh/Desktop/data%20structure%20%26%20algo%20practise/exe4.ipynb#X15sZmlsZQ%3D%3D?line=25'>26</a>\u001b[0m     subset(setcopy,n\u001b[39m+\u001b[39m\u001b[39m1\u001b[39m)\n\u001b[1;32m     <a href='vscode-notebook-cell:/home/gvh/Desktop/data%20structure%20%26%20algo%20practise/exe4.ipynb#X15sZmlsZQ%3D%3D?line=26'>27</a>\u001b[0m \u001b[39melse\u001b[39;00m: \u001b[39mreturn\u001b[39;00m S\n",
      "\u001b[0;31mIndexError\u001b[0m: pop index out of range"
     ]
    }
   ],
   "source": [
    "# 4.14 skipped temporarily\n",
    "# 4.15\n",
    "def subset(S,n=0):\n",
    "    setcopy=S.copy()\n",
    "    if len(setcopy)>1:\n",
    "        for i in range(len(setcopy)):\n",
    "            setcopy2=setcopy.copy()\n",
    "            # print(f'minus n={n},i={i}')\n",
    "            setcopy2.pop(i)\n",
    "            # return setcopy2\n",
    "            print(setcopy2)\n",
    "            # subset(setcopy2,n+1)\n",
    "        print(setcopy.pop(n))\n",
    "        subset(setcopy,n+1)\n",
    "    else: return S\n",
    "        \n",
    "\n",
    "subset([1,2,3,4])"
   ]
  },
  {
   "cell_type": "code",
   "execution_count": null,
   "metadata": {},
   "outputs": [],
   "source": []
  }
 ],
 "metadata": {
  "kernelspec": {
   "display_name": "Python 3.9.12 ('deepcv')",
   "language": "python",
   "name": "python3"
  },
  "language_info": {
   "codemirror_mode": {
    "name": "ipython",
    "version": 3
   },
   "file_extension": ".py",
   "mimetype": "text/x-python",
   "name": "python",
   "nbconvert_exporter": "python",
   "pygments_lexer": "ipython3",
   "version": "3.9.12"
  },
  "orig_nbformat": 4,
  "vscode": {
   "interpreter": {
    "hash": "38e3adfb29cde9206c861f814c9fa42a1353f77e60ebe68d31b54d2673048b17"
   }
  }
 },
 "nbformat": 4,
 "nbformat_minor": 2
}
