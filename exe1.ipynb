{
 "cells": [
  {
   "cell_type": "code",
   "execution_count": null,
   "metadata": {},
   "outputs": [],
   "source": [
    "# 1.1\n",
    "def is_multiple(n,m):\n",
    "    return False if m%n != 0 else True\n",
    "\n",
    "is_multiple(5,5)"
   ]
  },
  {
   "cell_type": "code",
   "execution_count": null,
   "metadata": {},
   "outputs": [],
   "source": [
    "# 1.2\n",
    "def is_even(k: int):\n",
    "    if not isinstance(k, int):\n",
    "        raise Exception\n",
    "    else:\n",
    "        return True if k&1==0 else False\n",
    "\n",
    "is_even(8)"
   ]
  },
  {
   "cell_type": "code",
   "execution_count": null,
   "metadata": {},
   "outputs": [],
   "source": [
    "# 1.3\n",
    "def minmax(data) -> tuple:\n",
    "    min_num, max_num = data[0], data[0]\n",
    "    for i in data:\n",
    "        if i<min_num:\n",
    "            min_num = i\n",
    "        elif i>max_num:\n",
    "            max_num = i\n",
    "    return min_num,max_num\n",
    "\n",
    "minmaxnum = minmax(data=[2,6,10,8,9,3,4,7,25,5])\n",
    "print(minmaxnum)"
   ]
  },
  {
   "cell_type": "code",
   "execution_count": null,
   "metadata": {},
   "outputs": [],
   "source": [
    "# answers for 1.4 & 1.5\n",
    "def sumsq(n: int) -> int:\n",
    "    return sum([i**2 for i in range(n)])\n",
    "\n",
    "print(sumsq(10))"
   ]
  },
  {
   "cell_type": "code",
   "execution_count": null,
   "metadata": {},
   "outputs": [],
   "source": [
    "# answers for 1.6 & 1.7\n",
    "def oddsq(n: int) -> int:\n",
    "    return sum([i**2 for i in range(n) if not is_even(i)])\n",
    "\n",
    "print(oddsq(10))"
   ]
  },
  {
   "cell_type": "code",
   "execution_count": null,
   "metadata": {},
   "outputs": [],
   "source": [
    "# 1.9, skip 1.8\n",
    "out = list(range(50,90,10))\n",
    "print(out)"
   ]
  },
  {
   "cell_type": "code",
   "execution_count": null,
   "metadata": {},
   "outputs": [],
   "source": [
    "# 1.10\n",
    "out = list(range(8,-10,-2))\n",
    "print(out)"
   ]
  },
  {
   "cell_type": "code",
   "execution_count": null,
   "metadata": {},
   "outputs": [],
   "source": [
    "# 1.11\n",
    "out = [2**i for i in range(9)]\n",
    "print(out)"
   ]
  },
  {
   "cell_type": "code",
   "execution_count": null,
   "metadata": {},
   "outputs": [],
   "source": [
    "# 1.12\n",
    "import random\n",
    "def choice(data: list):\n",
    "    return data[random.randrange(0,len(data))]\n",
    "print(choice([1,2,3,4,5,6,7,8,9,10,11,12]))"
   ]
  },
  {
   "cell_type": "code",
   "execution_count": null,
   "metadata": {},
   "outputs": [],
   "source": [
    "# 1.13\n",
    "def reverse(data: list):\n",
    "    reverse_list = [data[-i] for i in range(len(data)-1, -1, -1)]\n",
    "    return reverse_list\n",
    "\n",
    "print(reverse([-4,-2,-1,0,1,2,4]))"
   ]
  },
  {
   "cell_type": "code",
   "execution_count": null,
   "metadata": {},
   "outputs": [],
   "source": [
    "# 1.14\n",
    "def oddprod(data: list) -> list:\n",
    "    prod=[]\n",
    "    for i in range(len(data)):\n",
    "        x = data[i]\n",
    "        temp=[(x,data[j]) for j in range(i+1, len(data)) if not is_even(data[j]*x)]\n",
    "        if len(temp) != 0:\n",
    "            for k in temp:\n",
    "                prod.append(k)\n",
    "    return prod\n",
    "\n",
    "print(oddprod([1,2,3,4,5,6,7,8,9]))"
   ]
  },
  {
   "cell_type": "code",
   "execution_count": null,
   "metadata": {},
   "outputs": [],
   "source": [
    "# 1.15\n",
    "def checkdiff(data: list) -> list:\n",
    "    repeated=[]\n",
    "    for i in range(len(data)):\n",
    "        x = data[i]\n",
    "        temp=[data[j] for j in range(i+1, len(data)) if data[j]==x]\n",
    "        if len(temp) != 0:\n",
    "            for k in temp:\n",
    "                repeated.append(k)\n",
    "    \n",
    "    return repeated if len(repeated)!=0 else print('All numbers are different from each other')\n",
    "\n",
    "print(checkdiff([1,2,3,4,5,6,6,8,9,10,11,13,12,13,15,16,3,9,10]))\n",
    "print(checkdiff(data=[1,2,3,4]))"
   ]
  },
  {
   "cell_type": "code",
   "execution_count": null,
   "metadata": {},
   "outputs": [],
   "source": [
    "# 1.16\n",
    "def scale(data, factor):\n",
    "    for j in range(len(data)):\n",
    "        data[j] *= factor\n",
    "    return data\n",
    "\n",
    "print(scale(data=[1,2,3,4], factor=2))\n",
    "'list is mutable, the object referenced is the element immutable int and updated.'"
   ]
  },
  {
   "cell_type": "code",
   "execution_count": null,
   "metadata": {},
   "outputs": [],
   "source": [
    "# 1.17\n",
    "def scale(data, factor):\n",
    "    for val in data:\n",
    "        val *= factor\n",
    "\n",
    "'This wouldnt work, val was initiated within for loop and call again each loop, the previous val would have been replaced if it was not stored in other variables, eg. list.'"
   ]
  },
  {
   "cell_type": "code",
   "execution_count": null,
   "metadata": {},
   "outputs": [],
   "source": [
    "# 1.18\n",
    "print([i*(i+1) for i in range(10)])"
   ]
  },
  {
   "cell_type": "code",
   "execution_count": null,
   "metadata": {},
   "outputs": [],
   "source": [
    "# 1.19\n",
    "print([chr(i) for i in range(ord('a'), ord('a')+26)])"
   ]
  },
  {
   "cell_type": "code",
   "execution_count": null,
   "metadata": {},
   "outputs": [],
   "source": [
    "# 1.20\n",
    "# just keep swapping within original list\n",
    "def shuffle(data: list):\n",
    "    for i in range(len(data)-1, 0, -1):\n",
    "        j = random.randint(0,i)\n",
    "        data[i], data[j] = data[j], data[i]\n",
    "    return data\n",
    "print(shuffle(data=[1,2,3,4,5,6,7,8,9]))"
   ]
  },
  {
   "cell_type": "code",
   "execution_count": null,
   "metadata": {},
   "outputs": [],
   "source": [
    "# 1-21\n",
    "# skipped, refer others code ->\n",
    "try:\n",
    "    data = []\n",
    "    temp = input()\n",
    "    while temp:\n",
    "        data.append(temp)\n",
    "        temp = input()\n",
    "except EOFError:\n",
    "    while len(data) != 0:\n",
    "        print(data.pop())"
   ]
  },
  {
   "cell_type": "code",
   "execution_count": null,
   "metadata": {},
   "outputs": [],
   "source": [
    "# 1-22\n",
    "def dotprod(data1: list, data2: list):\n",
    "    if len(data1) != len(data2):\n",
    "        raise Exception\n",
    "    return [data1[i]*data2[i] for i in range(len(data1))]\n",
    "\n",
    "a = [1,2,3,4,5]\n",
    "b = [2,3,2,4,2]\n",
    "print(dotprod(a,b))"
   ]
  },
  {
   "cell_type": "code",
   "execution_count": null,
   "metadata": {},
   "outputs": [],
   "source": [
    "# 1-23\n",
    "# skip, index out of bound question"
   ]
  },
  {
   "cell_type": "code",
   "execution_count": null,
   "metadata": {},
   "outputs": [],
   "source": [
    "# 1-24\n",
    "def countvowels(sentence: str):\n",
    "    vowels=['a','e','i','o','u']\n",
    "    count=0\n",
    "    for s in sentence:\n",
    "        temp = [v for v in vowels if v==s]\n",
    "        count+=len(temp)\n",
    "    return count\n",
    "\n",
    "print(countvowels(sentence='lets check'))"
   ]
  },
  {
   "cell_type": "code",
   "execution_count": null,
   "metadata": {},
   "outputs": [],
   "source": [
    "# 1-25\n",
    "def delpunc(string: str):\n",
    "    outs = ''\n",
    "    for s in string:\n",
    "        if (ord(s) in range(ord('A'),ord('A')+26)) or (ord(s) in range(ord('a'),ord('a')+26)) or (ord(s)==ord(' ')):\n",
    "            outs += s\n",
    "    return outs\n",
    "\n",
    "print(delpunc(\"Let's try, Mike.\"))"
   ]
  },
  {
   "cell_type": "code",
   "execution_count": null,
   "metadata": {},
   "outputs": [],
   "source": [
    "# 1-26\n",
    "def arith():\n",
    "    a = int(input('key in integer a value'))\n",
    "    b = int(input('key in integer b value'))\n",
    "    c = int(input('key in integer c value'))\n",
    "\n",
    "    if a+b==c: return \"a+b==c\"\n",
    "    elif b-c==a: return \"b-c==a\"\n",
    "    elif a*b==c: return \"a*b==c\"\n",
    "    else: return \"Doesnt match any\"\n",
    "\n",
    "print(arith())"
   ]
  },
  {
   "cell_type": "code",
   "execution_count": 12,
   "metadata": {},
   "outputs": [
    {
     "data": {
      "text/plain": [
       "[1, 2, 4, 5, 10, 20, 25, 50, 100]"
      ]
     },
     "execution_count": 12,
     "metadata": {},
     "output_type": "execute_result"
    }
   ],
   "source": [
    "# 1-27, refer other code\n",
    "def factors(n):\n",
    "    k = 1\n",
    "    while k*k<n:\n",
    "        if n%k ==0:\n",
    "            yield k\n",
    "        k+=1\n",
    "    k = int(n**(1/2))\n",
    "    while k>0:\n",
    "        if n%k ==0:\n",
    "            yield n//k\n",
    "        k-=1\n",
    "\n",
    "list(factors(100))"
   ]
  },
  {
   "cell_type": "code",
   "execution_count": 17,
   "metadata": {},
   "outputs": [
    {
     "data": {
      "text/plain": [
       "6.565562896657716"
      ]
     },
     "execution_count": 17,
     "metadata": {},
     "output_type": "execute_result"
    }
   ],
   "source": [
    "# 1.28\n",
    "def norm(v,p=2):\n",
    "    return (sum([i**p for i in v]))**(1/p)\n",
    "\n",
    "norm(v=[2,3,4,5,6],p=5)"
   ]
  },
  {
   "cell_type": "code",
   "execution_count": 234,
   "metadata": {},
   "outputs": [
    {
     "name": "stdout",
     "output_type": "stream",
     "text": [
      "None\n"
     ]
    }
   ],
   "source": [
    "# 1.29, refer other code, chap4 recursion, revise later\n",
    "def recursion(sub_data, string):\n",
    "    if len(sub_data) == 1: \n",
    "        print (''.join(list(map(str, string+sub_data))), end = ',')\n",
    "        return\n",
    "    else:\n",
    "        for i in range(len(sub_data)):\n",
    "            new_subdata = [sub_data[x] for x in range(len(sub_data)) if x!=i] #Make a list with everything but your current item\n",
    "            recursion(new_subdata, string+ [sub_data[i]])\n",
    "            \n",
    "            \n",
    "def all_combos(data):\n",
    "    assert len(data)>0, 'You have provided an empty string/array'\n",
    "    recursion(list(data), [])\n",
    "    \n",
    "    \n",
    "print('Approach 1') \n",
    "all_combos('catdog')\n",
    "all_combos([1,2,43,'f','g'])\n"
   ]
  },
  {
   "cell_type": "code",
   "execution_count": 8,
   "metadata": {},
   "outputs": [
    {
     "name": "stdout",
     "output_type": "stream",
     "text": [
      "10\n",
      "5\n",
      "2\n",
      "1\n",
      "20 can be divided by 2 by 4 times.\n"
     ]
    }
   ],
   "source": [
    "# 1.30\n",
    "def div(n: int):\n",
    "    if not n >=2:\n",
    "        print('Please provide a number greater or equals to 2')\n",
    "    else:\n",
    "        count=0\n",
    "        divn=n\n",
    "        while int(n)>=2:\n",
    "            n//=2\n",
    "            print(n)\n",
    "            count+=1\n",
    "        print(f'{divn} can be divided by 2 by {count} times.')\n",
    "\n",
    "div(20)"
   ]
  },
  {
   "cell_type": "code",
   "execution_count": 94,
   "metadata": {},
   "outputs": [],
   "source": [
    "# 1.31\n",
    "def div(isBill:True, billcoinlist: list, balance: float):\n",
    "    balancelist=[]\n",
    "\n",
    "    if not isBill:\n",
    "        billcoinlist = [i*100 for i in billcoinlist]\n",
    "        balance*=100\n",
    "\n",
    "    for n in billcoinlist:\n",
    "        if not n <=balance:\n",
    "            continue\n",
    "        else:\n",
    "            billcointype=n\n",
    "            count=0\n",
    "            while balance>=int(n) and int(n)!=0:\n",
    "                count+=1\n",
    "                balance-=int(n)\n",
    "\n",
    "            balancelist.append([billcointype,balance,count])\n",
    "    \n",
    "    if not isBill:\n",
    "        for i in balancelist:\n",
    "            i[0]/=100\n",
    "            i[1]/=100\n",
    "    return balancelist\n",
    "\n",
    "def changemaker(charged: float, given: float):\n",
    "    bill = [100,50,20,10,5,2,1]\n",
    "    coin = [0.5,0.2,0.1,0.05,0.01]\n",
    "\n",
    "    if not given>=charged:\n",
    "        print(f'Still lack of RM{round((charged-given),2)}')\n",
    "    else:\n",
    "        balance = round((given-charged),2)\n",
    "        balancebill = int(balance)\n",
    "        balancecoin = balance-balancebill\n",
    "        returnbill = div(isBill=True, billcoinlist=bill,balance=balancebill)\n",
    "        returncoin = div(isBill=False, billcoinlist=coin,balance=balancecoin)\n",
    "\n",
    "        statement1 = [f'RM {i[0]}: {i[2]} ' for i in returnbill]\n",
    "        statement2 = [f'RM {i[0]}: {i[2]} ' for i in returncoin]\n",
    "        print(statement1+statement2)\n",
    "    "
   ]
  },
  {
   "cell_type": "code",
   "execution_count": 95,
   "metadata": {},
   "outputs": [
    {
     "name": "stdout",
     "output_type": "stream",
     "text": [
      "['RM 5: 1 ', 'RM 2: 2 ', 'RM 0.5: 1 ', 'RM 0.2: 1 ', 'RM 0.05: 1 ']\n"
     ]
    }
   ],
   "source": [
    "changemaker(charged=50.25,given=60)"
   ]
  },
  {
   "cell_type": "code",
   "execution_count": 96,
   "metadata": {},
   "outputs": [
    {
     "name": "stdout",
     "output_type": "stream",
     "text": [
      "{'RM 5': 1, 'RM 2': 2, 'RM 0.5': 1, 'RM 0.2': 1, 'RM 0.01': 4}\n"
     ]
    }
   ],
   "source": [
    "# 1.31, other code, shorter version\n",
    "def make_change(given, charged, denominations = [100, 50, 20, 10, 5, 2, 1, 0.5, 0.20, 0.10, 0.05, 0.01]):\n",
    "    assert given >= charged, 'The customer has not given enough!'\n",
    "    change = {}\n",
    "    residual = given-charged\n",
    "    for denomination in denominations:\n",
    "        amount, residual = divmod(residual, denomination)\n",
    "        if amount: change[f'RM {denomination}'] = int(amount) #This will only add non-zero amounts to the dictionary\n",
    "    return change\n",
    "\n",
    "print(make_change(60, 50.25))"
   ]
  },
  {
   "cell_type": "code",
   "execution_count": 154,
   "metadata": {},
   "outputs": [
    {
     "name": "stdout",
     "output_type": "stream",
     "text": [
      "input1=10.0\n",
      "input1=10.0, operand=+\n",
      "input1=10.0, operand=+, input2=10.0\n",
      "answers: 20.0\n",
      "input1=20.0, operand=None, input2=None\n",
      "input1=20.0, operand=-\n",
      "input1=20.0, operand=-, input2=5.0\n",
      "answers: 15.0\n",
      "input1=15.0, operand=None, input2=None\n",
      "input1=15.0, operand=+\n",
      "input1=15.0, operand=+, input2=2.0\n",
      "answers: 17.0\n",
      "input1=17.0, operand=None, input2=None\n",
      "input1=17.0, operand=-\n",
      "input1=17.0, operand=-, input2=1.0\n",
      "answers: 16.0\n",
      "input1=16.0, operand=None, input2=None\n",
      "input1=16.0, operand=+\n",
      "input1=16.0, operand=+, input2=5.0\n",
      "answers: 21.0\n",
      "input1=21.0, operand=None, input2=None\n",
      "input1=21.0, operand=*\n",
      "input1=21.0, operand=*, input2=4.0\n",
      "answers: 84.0\n",
      "input1=84.0, operand=None, input2=None\n",
      "Clear calculator, input1=None, input2=None, operand=None\n",
      "input1=5.0\n",
      "Exit calculator\n"
     ]
    }
   ],
   "source": [
    "# 1.32, print statement to check var status\n",
    "def arith(sign, a, b):\n",
    "    if sign == '+': return a+b\n",
    "    elif sign == '-': return a-b\n",
    "    elif sign == '*': return a*b\n",
    "    elif sign == '/': return a/b\n",
    "    else:\n",
    "        print('Provide an eligible operand')\n",
    "\n",
    "def calculator():\n",
    "    input_str = operand = on = input1 = input2 = None\n",
    "    \n",
    "    on = True if input('Would you like to proceed').upper() == 'YES' else False\n",
    "    while on:\n",
    "        input_str = input().upper()\n",
    "        if input_str == 'EXIT' or input_str =='':\n",
    "            print('Exit calculator')\n",
    "            on=False\n",
    "        elif input_str == 'CLR':\n",
    "            input1=input2=operand=None\n",
    "            print(f'Clear calculator, input1={input1}, input2={input2}, operand={operand}')\n",
    "        elif input1 == None and operand == None and input2 == None:\n",
    "            input1=float(input_str)\n",
    "            print(f'input1={input1}')\n",
    "        elif input1 != None and operand == None and input2 == None:\n",
    "            operand = input_str\n",
    "            print(f'input1={input1}, operand={operand}')\n",
    "        elif input1 != None and operand != None and input2==None:\n",
    "            input2=float(input_str)\n",
    "            input_str == 'CLR'\n",
    "            print(f'input1={input1}, operand={operand}, input2={input2}')\n",
    "            answers = arith(operand,input1,input2)\n",
    "            print(f'answers: {answers}')\n",
    "            input1=answers\n",
    "            operand=input2=None\n",
    "            print(f'input1={input1}, operand={operand}, input2={input2}')\n",
    "            \n",
    "\n",
    "calculator()"
   ]
  },
  {
   "cell_type": "code",
   "execution_count": 197,
   "metadata": {},
   "outputs": [
    {
     "name": "stdout",
     "output_type": "stream",
     "text": [
      "I will never spam my friends again\n",
      "I will never spam my friends again\n",
      "I will never spam my friends again\n",
      "I will never spam my friends again\n",
      "I will never spam my friends again\n",
      "I will never spamfmy friends again <-- Typo line\n",
      "I will never spam my friends again\n",
      "I will never spam my friends again\n",
      "I will never spam my friends again\n",
      "I will never spam my friends again\n",
      "I will never spam my friends again\n",
      "I will never spam my friends again\n",
      "I will never spam my friends again\n",
      "I will never spamymy friends again <-- Typo line\n",
      "I will never spam my friends again\n",
      "I will never spam my friends again\n",
      "I will never spam my friends again\n",
      "I will never spam my friends again\n",
      "I will never spam my friends again\n",
      "I will never spam my friends again\n",
      "I will never spam my friends again\n",
      "I will never spam my friends again\n",
      "I will never spam my friends again\n",
      "I will never spam my friends again\n",
      "I will never spam my friends again\n",
      "I will never spam my friends again\n",
      "I will never spam my friends again\n",
      "I will never spam my friends again\n",
      "I will never spam my friends again\n",
      "I will never spam oy friends again <-- Typo line\n",
      "I will never spam my friends again\n",
      "I will never spam my friends again\n",
      "I will never spam my friends again\n",
      "I will never spam my friends again\n",
      "I will never spam my friends again\n",
      "I will never spam my friends again\n",
      "I will never spam my friends again\n",
      "I will never spam my friends again\n",
      "I will never spam my friends again\n",
      "I will never spam my friends again\n",
      "I will never spam my friends again\n",
      "I will never spam my friends again\n",
      "I will never spam my friends again\n",
      "I will never spam my friends again\n",
      "I will never spam my friends again\n",
      "I will never spam my friends again\n",
      "I will never spam ms friends again <-- Typo line\n",
      "I will never spam my friends again\n",
      "I will never spam my friends again\n",
      "I will never spam my friends again\n",
      "I will never spam my friends again\n",
      "I will never spam my friends again\n",
      "I will never spam my friends again\n",
      "I will never spam my friends again\n",
      "I will never spam my friends again\n",
      "I will never spam my friends again\n",
      "I will never spam my friends again\n",
      "I will never spam my friends again\n",
      "I will never spam my frzends again <-- Typo line\n",
      "I will never spam my friends again\n",
      "I will never spam my friends again\n",
      "I will never spam my friends again\n",
      "I will never spam my friends again\n",
      "I will never spam my friends again\n",
      "I will never spam my friends again\n",
      "I will never spam my friends again\n",
      "I will never spam my friends again\n",
      "I will never spam my friends again\n",
      "I will never spam my friends again\n",
      "I will never spam my friends again\n",
      "I will never spam my friends again\n",
      "I will never spam my friends again\n",
      "I willinever spam my friends again <-- Typo line\n",
      "I will never spam my friends again\n",
      "I will never spam my friends again\n",
      "I will never spam my friends again\n",
      "I will never spam my friends again\n",
      "I will never spam my friends again\n",
      "I will never spam my friends again\n",
      "I will never spam my friends again\n",
      "I will never spam my friends again\n",
      "I will never spam my friends again\n",
      "I will never spam my priends again <-- Typo line\n",
      "I will never spam my friends again\n",
      "I will never spam my friends again\n",
      "I will never spam my friends again\n",
      "I will never spam my friends again\n",
      "I will never spam my friends again\n",
      "I will never spam my friends again\n",
      "I will never spam my friends again\n",
      "I will never spam my friends again\n",
      "I will never spam my friends again\n",
      "I will never spam my friends again\n",
      "I will never spam my friends again\n",
      "I will never spam my friends again\n",
      "I will never spam my friends again\n",
      "I will never spam my friends again\n",
      "I will never spam my friends again\n",
      "I will never spam my friends again\n",
      "I will never spam my frbends again <-- Typo line\n"
     ]
    }
   ],
   "source": [
    "# 1.34\n",
    "import random\n",
    "def error(sentence):\n",
    "    errorchr = random.randrange(ord('a'), ord('a')+26)\n",
    "    errorlocation = random.randint(0,len(sentence))\n",
    "    newsentence = f'{sentence[:errorlocation-1]}{chr(errorchr)}{sentence[errorlocation:]}'\n",
    "    return newsentence\n",
    "\n",
    "def punishment(numlines: int, numerror: int):\n",
    "    errorlineid = [random.randint(0,100) for i in range(numerror)]\n",
    "    sentence = 'I will never spam my friends again'\n",
    "    for i in range(numlines):\n",
    "        if i in errorlineid:\n",
    "            print(f'{error(sentence)} <-- Typo line')\n",
    "        else:\n",
    "            print(sentence)\n",
    "\n",
    "punishment(100, 8)\n"
   ]
  },
  {
   "cell_type": "code",
   "execution_count": 212,
   "metadata": {},
   "outputs": [
    {
     "name": "stdout",
     "output_type": "stream",
     "text": [
      "5: 0.02714\n",
      "10: 0.11695\n",
      "15: 0.2529\n",
      "20: 0.41144\n",
      "25: 0.5687\n",
      "30: 0.70632\n",
      "35: 0.81438\n",
      "40: 0.89123\n",
      "45: 0.94098\n",
      "50: 0.97037\n",
      "55: 0.98626\n",
      "60: 0.99412\n",
      "65: 0.99768\n",
      "70: 0.99916\n",
      "75: 0.99972\n",
      "80: 0.99991\n",
      "85: 0.99998\n",
      "90: 0.99999\n",
      "95: 1.0\n",
      "100: 1.0\n"
     ]
    }
   ],
   "source": [
    "# 1.35\n",
    "def probcalc(n:int):\n",
    "    a = [365-i for i in range(n)]\n",
    "    product=a[0]\n",
    "    for j in range(1,len(a)):\n",
    "        product=product*int(a[j])\n",
    "    prob = product/365**n\n",
    "    return round(1-prob,5)\n",
    "\n",
    "def bdayparadox(nlist: list):\n",
    "    for n in nlist:\n",
    "        print(f'{n}: {probcalc(n)}')\n",
    "\n",
    "nlist = [i*5 for i in range(1,21)]\n",
    "bdayparadox(nlist)"
   ]
  },
  {
   "cell_type": "code",
   "execution_count": null,
   "metadata": {},
   "outputs": [],
   "source": [
    "# 1.36\n",
    "# skipped"
   ]
  }
 ],
 "metadata": {
  "kernelspec": {
   "display_name": "Python 3.9.12 ('deepcv')",
   "language": "python",
   "name": "python3"
  },
  "language_info": {
   "codemirror_mode": {
    "name": "ipython",
    "version": 3
   },
   "file_extension": ".py",
   "mimetype": "text/x-python",
   "name": "python",
   "nbconvert_exporter": "python",
   "pygments_lexer": "ipython3",
   "version": "3.9.12"
  },
  "orig_nbformat": 4,
  "vscode": {
   "interpreter": {
    "hash": "38e3adfb29cde9206c861f814c9fa42a1353f77e60ebe68d31b54d2673048b17"
   }
  }
 },
 "nbformat": 4,
 "nbformat_minor": 2
}
