{
 "cells": [
  {
   "cell_type": "code",
   "execution_count": 4,
   "metadata": {},
   "outputs": [
    {
     "name": "stdout",
     "output_type": "stream",
     "text": [
      "2\n"
     ]
    }
   ],
   "source": [
    "# 7.2\n",
    "\"\"\"\n",
    "Give an algorithm for finding the second-to-last node in a singly linked list in which the last node is indicated by a next reference of None.\n",
    "\"\"\"\n",
    "class Empty(Exception):pass\n",
    "\n",
    "class LinkedStack:\n",
    "    \"LIFO\"\n",
    "    \"\"\"implemented using singly linked list.\"\"\"\n",
    "    class Node:\n",
    "        __slots__ = '_element', '_next'\n",
    "        def __init__(self, element, next):\n",
    "            self._element = element\n",
    "            self._next = next\n",
    "        \n",
    "    def __init__(self):\n",
    "        self._head = None\n",
    "        self._size = 0\n",
    "    \n",
    "    def __len__(self):\n",
    "        return self._size\n",
    "    \n",
    "    def is_empty(self):\n",
    "        return self._size==0\n",
    "    \n",
    "    def push(self, e):\n",
    "        self._head = self.Node(element=e, next=self._head)\n",
    "        self._size+=1\n",
    "\n",
    "    def top(self):\n",
    "        if self.is_empty(): raise Empty('Singly Linked Stack is empty.')\n",
    "        return self._head._element\n",
    "    \n",
    "    def pop(self):\n",
    "        if self.is_empty(): raise Empty('Singly Linked Stack is empty.')\n",
    "        ans = self._head._element\n",
    "        self._head = self._head._next\n",
    "        self._size-=1\n",
    "        return ans\n",
    "\n",
    "ssl = LinkedStack()\n",
    "for i in range(1,5):\n",
    "    ssl.push(i)\n",
    "\n",
    "def findsecondtolast(ssl):\n",
    "    ans = ssl._head\n",
    "    while (ans._next)._next is not None:\n",
    "        ans = ans._next\n",
    "    return ans._element\n",
    "\n",
    "print(findsecondtolast(ssl))\n",
    "# stack: LIFO [1,\"2\",3,4], 2 is second last, given 1 is first in and last out."
   ]
  },
  {
   "cell_type": "code",
   "execution_count": null,
   "metadata": {},
   "outputs": [],
   "source": [
    "class LinkedQueue:\n",
    "    \n",
    "    class Node:\n",
    "        __slots__ = '_element', '_next'\n",
    "        def __init__(self, element, next):\n",
    "            self._element = element\n",
    "            self._next = next\n",
    "    \n",
    "    def __init__(self):\n",
    "        self._head = None\n",
    "        self._tail = None\n",
    "        self._size = 0\n",
    "    \n",
    "    def __len__(self):\n",
    "        return self._size\n",
    "    \n",
    "    def is_empty(self):\n",
    "        return self.size==0\n",
    "    \n",
    "    def first(self):\n",
    "        if self.is_empty: raise Empty('Linked Queue is empty.')\n",
    "        return self._head._element\n",
    "\n",
    "    def enqueue(self, e):\n",
    "        if self.is_empty==0:\n",
    "            self._head = self.Node(e, None)\n",
    "        else:\n",
    "            (self._tail)._element = self.Node(e, None)\n",
    "\n",
    "    def dequeue(self):\n",
    "        pass"
   ]
  },
  {
   "cell_type": "code",
   "execution_count": null,
   "metadata": {},
   "outputs": [],
   "source": [
    "# 7.5\n",
    "\"\"\"\n",
    "Implement a function that counts the number of nodes in a circularly linked list\n",
    "\"\"\""
   ]
  },
  {
   "cell_type": "code",
   "execution_count": null,
   "metadata": {},
   "outputs": [],
   "source": [
    "# 7.7\n",
    "\"\"\"\n",
    "Our CircularQueue class of Section 7.2.2 provides a rotate( ) method that has semantics equivalent to Q.enqueue(Q.dequeue( )), for a nonempty queue. Implement such a method for the LinkedQueue class of Section 7.1.2 without the creation of any new nodes\n",
    "\"\"\""
   ]
  },
  {
   "cell_type": "code",
   "execution_count": null,
   "metadata": {},
   "outputs": [],
   "source": [
    "# 7.9\n",
    "\"\"\"\n",
    "Give a fast algorithm for concatenating two doubly linked lists L and M, with header and trailer sentinel nodes, into a single list L'\n",
    "\"\"\""
   ]
  },
  {
   "cell_type": "code",
   "execution_count": null,
   "metadata": {},
   "outputs": [],
   "source": [
    "# 7.11\n",
    "\"\"\"\n",
    "Implement a function, with calling syntax max(L), that returns the maximum element from a PositionalList instance L containing comparable elements\n",
    "\"\"\""
   ]
  },
  {
   "cell_type": "code",
   "execution_count": null,
   "metadata": {},
   "outputs": [],
   "source": [
    "# 7.12\n",
    "\"\"\"\n",
    "Redo the previously problem with max as a method of the PositionalList class, so that calling syntax L.max( ) is supported.\n",
    "\"\"\""
   ]
  },
  {
   "cell_type": "code",
   "execution_count": null,
   "metadata": {},
   "outputs": [],
   "source": [
    "# 7.13\n",
    "\"\"\"\n",
    "Update the PositionalList class to support an additional method find(e), which returns the position of the (first occurrence of) element e in the list (or None if not found).\n",
    "\"\"\""
   ]
  },
  {
   "cell_type": "code",
   "execution_count": null,
   "metadata": {},
   "outputs": [],
   "source": [
    "# 7.14\n",
    "\"\"\"\n",
    "Repeat the previous process using recursion. Your method should not contain any loops. How much space does your method use in addition to the space used for L?\n",
    "\"\"\""
   ]
  },
  {
   "cell_type": "code",
   "execution_count": null,
   "metadata": {},
   "outputs": [],
   "source": [
    "# 7.15\n",
    "\"\"\"\n",
    "Provide support for a reversed method of the PositionalList class that is similar to the given iter , but that iterates the elements in reversed order\n",
    "\"\"\""
   ]
  },
  {
   "cell_type": "code",
   "execution_count": null,
   "metadata": {},
   "outputs": [],
   "source": [
    "# 7.17\n",
    "\"\"\"\n",
    "In the FavoritesListMTF class, we rely on public methods of the positional list ADT to move an element of a list at position p to become the first element of the list, while keeping the relative order of the remaining elements unchanged. Internally, that combination of operations causes one node to be removed and a new node to be inserted. Augment the PositionalList class to support a new method, move to front(p), that accomplishes this goal more directly, by relinking the existing node.\n",
    "\"\"\""
   ]
  },
  {
   "cell_type": "code",
   "execution_count": null,
   "metadata": {},
   "outputs": [],
   "source": [
    "# 7.22\n",
    "\"\"\"\n",
    "Implement a clear( ) method for the FavoritesList class that returns the list to empty\n",
    "\"\"\""
   ]
  },
  {
   "cell_type": "code",
   "execution_count": null,
   "metadata": {},
   "outputs": [],
   "source": [
    "# 7.23\n",
    "\"\"\"\n",
    "Implement a reset counts( ) method for the FavoritesList class that resets all elements’ access counts to zero (while leaving the order of the list unchanged).\n",
    "\"\"\""
   ]
  }
 ],
 "metadata": {
  "kernelspec": {
   "display_name": "Python 3.7.13 ('deepcv')",
   "language": "python",
   "name": "python3"
  },
  "language_info": {
   "codemirror_mode": {
    "name": "ipython",
    "version": 3
   },
   "file_extension": ".py",
   "mimetype": "text/x-python",
   "name": "python",
   "nbconvert_exporter": "python",
   "pygments_lexer": "ipython3",
   "version": "3.7.13"
  },
  "orig_nbformat": 4,
  "vscode": {
   "interpreter": {
    "hash": "bc8728ca46fe0e46829d869d02c49a317711a0a5ed1f065b44257a00e89bb2e2"
   }
  }
 },
 "nbformat": 4,
 "nbformat_minor": 2
}
